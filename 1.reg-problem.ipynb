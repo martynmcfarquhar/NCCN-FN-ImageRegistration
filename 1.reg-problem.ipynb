{
 "cells": [
  {
   "cell_type": "markdown",
   "id": "8a6b3fd6-1753-45e7-a920-fccf68cbdcac",
   "metadata": {},
   "source": [
    "# The Image Registration Problem\n",
    "\n",
    "Image registration is a core issue that is applicable across a wide range of contexts. For example, image registration is necessary when:\n",
    "\n",
    "- Aligning fMRI volumes to correct for motion.\n",
    "- Aligning longitudinal datasets together to assess change over time.\n",
    "- Aligning data from different scanners and different sites in multi-centre research.\n",
    "- Aligning data with a template or atlas to localise results and make comparisons across studies.\n",
    "\n",
    "For all these cases, we can break the problem down into registering *two* images. This is our general framework for registration, where the goal is to move one image to align with the other. The image we move is known as the *source* image and the image we keep stationary is known as the *target* or *reference* image. \n",
    "\n",
    "## Motivation for Registration\n",
    "To motivate the need for registration, consider the scans shown below. Clearly these images are not aligned because the anatomy of the brain does not overlap. As such, our broad aim would be to move one of the images until the anatomy is overlapping, at which point we would say that the images are *aligned* or are *registered*."
   ]
  },
  {
   "cell_type": "markdown",
   "id": "abc00b24-9703-4465-be50-74d0e3a182e0",
   "metadata": {},
   "source": [
    "<iframe src=\"misaligned.html\" width=\"800\" height=\"600\" frameborder=\"0\" scrolling=\"no\" title=\"\"></iframe>"
   ]
  },
  {
   "cell_type": "markdown",
   "id": "5a079bf0-f0a8-4ac2-acc6-bb7dc48b6b51",
   "metadata": {},
   "source": [
    "To understand why this is necessary consider that our aim is often to collate meaningful information across multiple images. In order to do this, we need some sort of *mapping* between the points in one image and the points in the other. If the images are identical in size, this is simply an identity mapping where we use the same coordinates for the two images. This will be the case if the images are generated from the same scanning sequence, or if one image has been *interpolated* to the dimensions of the other image. Alternatively, we can map between the images using world-space and the matrix $\\mathbf{Q}$, as we explored last week. Either way, we take the coordinates in one image and transform them into coordinates in the other image in order to extract the matching voxel values.\n",
    "\n",
    "```{important}\n",
    "The most important point to realise is that just because a mapping exists, it does not mean that it is useful. For instance, mapping between two images is largely useless if the anatomy of the brain is not in the same position within each image. This is because the coordinates that are matched across the images are associated with *different* anatomical locations. Indeed, locations *inside* the brain in one image may be mapped to locations *outside* the brain in the other image. As such, there is an additional need, beyond simply mapping coordinates, for images to be *aligned*.\n",
    "```"
   ]
  },
  {
   "cell_type": "markdown",
   "id": "7e3b72f0-c626-46a4-a511-c2140a473054",
   "metadata": {},
   "source": [
    "## `MATLAB` Example\n",
    "To see the need for registration in context, consider reading the following two images into `MATLAB`"
   ]
  },
  {
   "cell_type": "code",
   "execution_count": 12,
   "id": "96a74dd3-b913-4e7b-ae18-7f97acb259f2",
   "metadata": {},
   "outputs": [],
   "source": [
    "anat = spm_data_read('sub-01_T1w.nii');\n",
    "func = spm_data_read('sub-01_task-flanker_run-1_bold.nii');"
   ]
  },
  {
   "cell_type": "markdown",
   "id": "526a35c3-b834-4712-a328-e9a0a792ffb6",
   "metadata": {},
   "source": [
    "You can downloaded the [anatomical image]() and the [functional image]() yourself, if you want to follow along.\n",
    "\n",
    "Now, consider an example situation where we are interested in voxel $[87,182,127]$ from the anatomical image. For instance, we may have already identified this as part of the anterior cingulate which is of interest in this study. We can extract the measured value from the anatomical image easily"
   ]
  },
  {
   "cell_type": "code",
   "execution_count": 21,
   "id": "5037fd9e-d854-4125-8d3b-7c16396e8fae",
   "metadata": {},
   "outputs": [
    {
     "data": {
      "text/html": [
       "<html><body><pre>ans = 210</pre></body></html>"
      ],
      "text/plain": [
       "ans = 210"
      ]
     },
     "execution_count": 21,
     "metadata": {},
     "output_type": "execute_result"
    }
   ],
   "source": [
    "anat(87,182,127)"
   ]
  },
  {
   "cell_type": "markdown",
   "id": "6d5e31a7-42e0-4aa0-aa92-f1d08c2f5f27",
   "metadata": {},
   "source": [
    "However, for the functional file we hit a problem"
   ]
  },
  {
   "cell_type": "code",
   "execution_count": 24,
   "id": "5e5dce42-b0d1-4fb2-8945-1641ead2ba50",
   "metadata": {},
   "outputs": [
    {
     "name": "stderr",
     "output_type": "stream",
     "text": [
      "Index in position 1 exceeds array bounds. Index must not exceed 64."
     ]
    }
   ],
   "source": [
    "func(87,182,127,1)"
   ]
  },
  {
   "cell_type": "markdown",
   "id": "7d2124bc-70ed-4b09-910b-813e42c26747",
   "metadata": {},
   "source": [
    "This is because the functional data is much *smaller* than the anatomical data, which we can see by querying the dimensions in `MATLAB`"
   ]
  },
  {
   "cell_type": "code",
   "execution_count": 29,
   "id": "13d70ebc-4ef1-4a6d-842e-ae4a0d56dee7",
   "metadata": {},
   "outputs": [
    {
     "data": {
      "text/html": [
       "<html><body><pre>ans = 1×3 double\n",
       "   176   256   256\n",
       "</pre></body></html>"
      ],
      "text/plain": [
       "ans = 1×3 double\n",
       "   176   256   256\n"
      ]
     },
     "execution_count": 29,
     "metadata": {},
     "output_type": "execute_result"
    },
    {
     "data": {
      "text/html": [
       "<html><body><pre>ans = 1×3 double\n",
       "    64    64    40\n",
       "</pre></body></html>"
      ],
      "text/plain": [
       "ans = 1×3 double\n",
       "    64    64    40\n"
      ]
     },
     "execution_count": 29,
     "metadata": {},
     "output_type": "execute_result"
    }
   ],
   "source": [
    "size(anat)\n",
    "size(func(:,:,:,1))"
   ]
  },
  {
   "cell_type": "code",
   "execution_count": null,
   "id": "b1d95d7c-0ee0-4151-a1a7-f3c1c7044b2f",
   "metadata": {},
   "outputs": [],
   "source": []
  }
 ],
 "metadata": {
  "kernelspec": {
   "display_name": "MATLAB Kernel",
   "language": "matlab",
   "name": "jupyter_matlab_kernel"
  },
  "language_info": {
   "file_extension": ".m",
   "mimetype": "text/x-matlab",
   "name": "matlab"
  }
 },
 "nbformat": 4,
 "nbformat_minor": 5
}
