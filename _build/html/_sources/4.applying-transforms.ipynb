{
 "cells": [
  {
   "cell_type": "markdown",
   "id": "bdc5a501-8d0c-44e8-82bb-4a5e08e60c08",
   "metadata": {},
   "source": [
    "# Applying Transformations\n"
   ]
  },
  {
   "cell_type": "markdown",
   "id": "b684afaf-9656-4fa3-8c85-f92a0e4276b1",
   "metadata": {},
   "source": [
    "## Image Registration Using `SPM`\n",
    "\n",
    "### Manual Registration\n",
    "\n",
    "### Automated Registration"
   ]
  },
  {
   "cell_type": "code",
   "execution_count": null,
   "id": "61bea03d-7d63-4062-be30-c3c20e31c4d2",
   "metadata": {},
   "outputs": [],
   "source": []
  }
 ],
 "metadata": {
  "kernelspec": {
   "display_name": "MATLAB Kernel",
   "language": "matlab",
   "name": "jupyter_matlab_kernel"
  },
  "language_info": {
   "file_extension": ".m",
   "mimetype": "text/x-matlab",
   "name": "matlab"
  }
 },
 "nbformat": 4,
 "nbformat_minor": 5
}
