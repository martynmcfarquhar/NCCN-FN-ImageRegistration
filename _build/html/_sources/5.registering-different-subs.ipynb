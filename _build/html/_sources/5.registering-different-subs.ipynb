{
 "cells": [
  {
   "cell_type": "markdown",
   "id": "d79698dc-62e1-4f1a-9baf-ff41b3ead17d",
   "metadata": {
    "editable": true,
    "slideshow": {
     "slide_type": ""
    },
    "tags": []
   },
   "source": [
    "# Registering Images from Different Subjects\n",
    "So far, in this lesson, we have discussed aligning two images from the same subject. These images may come from different imaging modalities, but fundamentally they represent the same individual with the same anatomy. Now we are going to consider the situation where we might want to register images from *different* subjects. Why would we want to do this? Well, one of the issues we face with brain imaging is that there is a large amount of anatomical variability across healthy individuals. Although all the main structures of the brain are in roughly the same place, there is a large degree of inconsistency in terms of the finer details of the size and shape of many parts of the brain. Examples of this variation are illustrated in {numref}``.\n",
    "\n",
    "```{figure} images/anat-variability.png\n",
    "---\n",
    "width: 800px\n",
    "name: anat-var-fig\n",
    "---\n",
    "Illusration of the degree of anatomical variability across 9 healthy and age-matched individuals. \n",
    "```\n"
   ]
  },
  {
   "cell_type": "code",
   "execution_count": null,
   "id": "4be5f1ff-e4ad-4404-bd75-324eac3420f9",
   "metadata": {},
   "outputs": [],
   "source": []
  }
 ],
 "metadata": {
  "kernelspec": {
   "display_name": "MATLAB Kernel",
   "language": "matlab",
   "name": "jupyter_matlab_kernel"
  },
  "language_info": {
   "file_extension": ".m",
   "mimetype": "text/x-matlab",
   "name": "matlab"
  }
 },
 "nbformat": 4,
 "nbformat_minor": 5
}
