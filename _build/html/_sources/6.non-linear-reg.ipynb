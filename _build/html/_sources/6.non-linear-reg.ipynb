{
 "cells": [
  {
   "cell_type": "markdown",
   "id": "d79698dc-62e1-4f1a-9baf-ff41b3ead17d",
   "metadata": {
    "editable": true,
    "slideshow": {
     "slide_type": ""
    },
    "tags": []
   },
   "source": [
    "# Non-linear Registration\n",
    "As we saw in the last section, affine transformations alone are not enough to accurately register individual subjects to a common template space. In order to move beyond simple affine approaches, we have to consider methods where we can move each voxel *independently*. These are known as *non-linear* registration techniques. Generally, these methods are more complex than affine methods and so we will keep the detail presented here limited. However, much of the image registration theory remains relevant. We still have a *reference* image (the MNI templates) that we want to align our *source* image to. In order to do so, we still have to estimate some form of *mapping* between the source and the reference images, and this will require optimisation using some form of *objective function*. We then need to *resample* the source image to move it into standard space. The main difference is that our mapping is no longer given by a 12-parameter affine transformation. Instead, our mapping is based on a *deformation field*.​​​\n",
    "\n",
    "## Deformation Fields\n",
    "At its most basic, a deformation field is an image where each voxel value indicates how to move that specific voxel when warping to standard space. There are therefore three of these images, one for the $x$-axis, $y$-axis and $z$-axis. In `SPM`, the deformation field images contain the new millimetre coordinates for each voxel after warping. So the $X$ deformation field contains all the new $x$-coordinates, the $Y$ deformation field contains all the new $y$-coordinates and the $Z$ deformation field contains all the new $z$-coordinates. So rather than using the header matrices to calculate the millimetre coordinates, we can do it directly by looking at the deformation fields. We can then convert these into voxel coordinates in the source image to give us the values we need to copy into our new normalised image. Of course, given how flexible the non-linear approach is, this will almost always need some form of interpolation. \n",
    "\n",
    "An examples of a deformation field for the $x$-axis is shown below. As you navigate around the image, compare the $x$-coordinate in red to the voxel value in white. The $x$-coordinate gives the original world-space location of that voxel and the voxel value in white gives the *new* world-space coordinate where the voxel must be moved in order to warp the image to standard space. For instance, if the coordinates of the voxel are given as $[-18, 12, 0]$ and the voxel value is $-20.01$, this means that the voxel located at $[-18, 12, 0]$ must be shifted to a world-space $x$-coordinate of $-20.01$. The deformation field for the $y$-axis and $z$-axis would then be used in the same fashion to complete the new world-space coordinates."
   ]
  },
  {
   "cell_type": "markdown",
   "id": "d3b36b7d-9db0-40bf-9615-18b4fb5fb39b",
   "metadata": {},
   "source": [
    "<iframe src=\"deform-x.html\" width=\"800\" height=\"600\" frameborder=\"0\" scrolling=\"no\" title=\"\"></iframe>"
   ]
  },
  {
   "cell_type": "markdown",
   "id": "319bf10b-1b3d-4b08-9701-ab5867f8f88b",
   "metadata": {},
   "source": [
    "```{Important}\n",
    "Because the deformation field defines a warping in world-space, it can be applied to *any* image that is registered with the source image. This will become important when we get get to fMRI pre-processing, as it is typical to use an aligned anatomical scan to estimate the warping, before appplying the resultant deformation field to the functional images. As such, a deformation field is *reuseable*, so long as the images are aligned in world-space.\n",
    "```\n",
    "\n",
    "### Creating Deformation Fields\n",
    "The first step in creating a deformation field is to align the source and the target using an affine approach, in order to get the images as close as possible. So even when performing non-linear registration, the algorithm always starts by doing the best job it can with an affine transformation. As such, everything said earlier in this lesson about making sure the linear registration performs well also applies here. Issues with optimisation also remain the same, so making sure the images are as well-aligned as possible beforehand is always a good idea.\n",
    "\n",
    "Next, an optimisation algorithm is used to estimate the warping needed to match the images. However, unlike an affine transformation where there are (at most) 12 parameters, non-linear registration can have *thousands* of parameters to optimise. How this is done is somewhat beyond the scope of the lesson, however, we can gain some intuition by looking at a deformation field in 1D. In {numref}`deform-1d-fig` we can see a plot of a single row (shown in blue) of the $X$ deformation field. A slice has been chosen where all the voxels originally has an x-coordinate of 0mm. The orange line shows the new millimetre coordinates for all voxels from this row, indicating that they will all be shifted by different amounts to the right.\n",
    "\n",
    "```{figure} images/deform-1d.png\n",
    "---\n",
    "width: 800px\n",
    "name: deform-1d-fig\n",
    "---\n",
    "Illustration of a deformation field in 1D.\n",
    "```\n",
    "This orange line is what the non-linear registration estimates. It does this by taking a whole bunch of cosines of different frequencies, weighting each frequency and then summing them to create these lines. The optimisation tries to find the weights (known as the *coefficients*) that lead to a line that represent the best shift in the image coordinates to fit the template image. As with linear registration, this is about finding the weights that minimise a cost function, which for non-linear registration is usually *least-squares*. As such, it is typical to have multiple MNI templates available, such as a T1, T2 and EPI for normalising images from different modalities."
   ]
  },
  {
   "cell_type": "markdown",
   "id": "55897e16-d024-440b-adf2-93bb4414ba30",
   "metadata": {},
   "source": [
    "## Regularisation\n",
    "\n",
    "An important element of non-linear techniques is making sure that the degree of warping applied to the images is sensible. What we do not want is to end up with biologically implausible brains that have been severely warped to suit the whims of the optimisation algorithm. As such, non-linear algorithms usually come with a way of penalising too much warping. This is known as regularisation. In `SPM`, this is done using the *bending energy* of the warp. The more extreme the bending, the larger the difference it has to make to the cost function to be allowed. In practise, this means that biologically implausible warps should be penalised and not allowed to happen. The consequences of reducing the amount of regularisation is shown in {numref}`regularisation-fig`.\n",
    "\n",
    "```{figure} images/regularisation.png\n",
    "---\n",
    "width: 800px\n",
    "name: regularisation-fig\n",
    "---\n",
    "Illustration of a how a reduction in regularisation affects the warping.\n",
    "```\n",
    "\n",
    "```{Important}\n",
    "Reducing the degree of regularisation can cause some extreme results in terms of what the non-linear warping does to the image. Messing with the regularisation is therefore not often advisable, unless you find your images are being excessively warped and you need to increase the penalty. However, what this does demonstrate is that non-linear registration is a balance between minimising the cost function, but without producing extreme warps. This balance is, in part, why perfect non-linear registration will almost never be achievable.\n",
    "```"
   ]
  },
  {
   "cell_type": "markdown",
   "id": "26e76abd-e226-481f-a87e-4eacb0cce651",
   "metadata": {},
   "source": [
    "## Linear Versus Non-linear Registration\n",
    "To appreciate the differences between linear and non-linear methods, {numref}`nonlin-norm-fig` shows the results of warping the same brain we saw earlier using a non-linear approach. As we can see, the correspondence with the MNI template is not perfect, but it is much better than we achieved using an affine approach.\n",
    "\n",
    "```{figure} images/nonlin_norm.gif\n",
    "---\n",
    "width: 800px\n",
    "name: nonlin-norm-fig\n",
    "---\n",
    "Illustration of the correspondance between the MNI template and an image that has been non-linearly warped. \n",
    "```"
   ]
  },
  {
   "cell_type": "markdown",
   "id": "9c699d46-6432-408a-ab19-66a314aa1e99",
   "metadata": {},
   "source": [
    "## Unified segmentation\n",
    "As a final point for this section, it is worth noting that the current approach taken by `SPM` for spatial normalisation is to combine it with a procedure for segmenting structural MR images into their different tissue classes. This approach is known as *unified segmentation* and was introduced by [Ashburner & Friston (2005)](https://www.fil.ion.ucl.ac.uk/~karl/Unified%20segmentation.pdf). The non-segmentation version of normalisation is still available in `SPM` as `Old Normalise`, but there is little reason to use it beyond historical curiosity.\n",
    "\n",
    "## Normalisation in `SPM`\n",
    "The video below will demonstrate how to perform normalisation using `SPM12`. This example uses the anatomical dataset that can be downloaded from [here](https://livemanchesterac.sharepoint.com/:u:/r/sites/UOM-FBMH-MSc-NCCN/Shared%20Documents/PCHN62141%20Functional%20Neuroanatomy/Learning%20Materials/Asynchronous/Week%205/1.%20Image%20Registration/Data/anat.nii?csf=1&web=0&e=TBvVB1&download=1).\n",
    "\n",
    "<div style=\"max-width: 1280px\"><div style=\"position: relative; padding-bottom: 56.25%; height: 0; overflow: hidden;\"><iframe src=\"https://livemanchesterac.sharepoint.com/sites/UOM-FBMH-MSc-NCCN/_layouts/15/embed.aspx?UniqueId=c9c8301a-f75b-4e46-ab42-473e17c68d47&embed=%7B%22hvm%22%3Atrue%2C%22ust%22%3Atrue%7D&referrer=StreamWebApp&referrerScenario=EmbedDialog.Create\" width=\"1280\" height=\"720\" frameborder=\"0\" scrolling=\"no\" allowfullscreen title=\"spm-normalisation.mov\" style=\"border:none; position: absolute; top: 0; left: 0; right: 0; bottom: 0; height: 100%; max-width: 100%;\"></iframe></div></div>"
   ]
  },
  {
   "cell_type": "code",
   "execution_count": null,
   "id": "603913cf-b650-4daa-b9eb-83968555a03d",
   "metadata": {},
   "outputs": [],
   "source": []
  }
 ],
 "metadata": {
  "kernelspec": {
   "display_name": "MATLAB Kernel",
   "language": "matlab",
   "name": "jupyter_matlab_kernel"
  },
  "language_info": {
   "file_extension": ".m",
   "mimetype": "text/x-matlab",
   "name": "matlab"
  }
 },
 "nbformat": 4,
 "nbformat_minor": 5
}
