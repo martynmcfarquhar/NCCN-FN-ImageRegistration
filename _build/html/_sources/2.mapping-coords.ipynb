{
 "cells": [
  {
   "cell_type": "markdown",
   "id": "1a5e4fcb-4335-4572-b466-59d6841c83d6",
   "metadata": {},
   "source": [
    "# Mapping Coordinates\n"
   ]
  },
  {
   "cell_type": "code",
   "execution_count": null,
   "id": "791deafd-d70b-453e-bf8d-edd81472ced9",
   "metadata": {},
   "outputs": [],
   "source": []
  }
 ],
 "metadata": {
  "kernelspec": {
   "display_name": "MATLAB Kernel",
   "language": "matlab",
   "name": "jupyter_matlab_kernel"
  },
  "language_info": {
   "file_extension": ".m",
   "mimetype": "text/x-matlab",
   "name": "matlab"
  }
 },
 "nbformat": 4,
 "nbformat_minor": 5
}
