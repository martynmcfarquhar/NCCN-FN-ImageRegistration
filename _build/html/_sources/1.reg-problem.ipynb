{
 "cells": [
  {
   "cell_type": "markdown",
   "id": "8a6b3fd6-1753-45e7-a920-fccf68cbdcac",
   "metadata": {},
   "source": [
    "# The Image Registration Problem\n",
    "\n",
    "Image registration is a core topic of computational anatomy that is applicable across a wide range of contexts. For example, image registration is necessary when:\n",
    "\n",
    "- Aligning fMRI volumes to correct for motion.\n",
    "- Aligning longitudinal datasets together to assess change over time.\n",
    "- Aligning data from different scanners and different sites in multi-centre research.\n",
    "- Aligning data with a template or atlas to localise results and make comparisons across studies.\n",
    "\n",
    "For all these cases, we can break the problem down into registering *two* images. This is our general framework for registration, where the goal is to move one image to align with the other. The image we move is known as the *source* image and the image we keep stationary is known as the *target* or *reference* image. \n",
    "\n",
    "## Motivation for Registration\n",
    "To motivate the need for registration, consider the scans shown below. Clearly they are not aligned because the anatomy of the brain does not overlap."
   ]
  },
  {
   "cell_type": "markdown",
   "id": "abc00b24-9703-4465-be50-74d0e3a182e0",
   "metadata": {},
   "source": [
    "<iframe src=\"misaligned.html\" width=\"800\" height=\"600\" frameborder=\"0\" scrolling=\"no\" title=\"\"></iframe>"
   ]
  }
 ],
 "metadata": {
  "kernelspec": {
   "display_name": "MATLAB Kernel",
   "language": "matlab",
   "name": "jupyter_matlab_kernel"
  },
  "language_info": {
   "file_extension": ".m",
   "mimetype": "text/x-matlab",
   "name": "matlab"
  }
 },
 "nbformat": 4,
 "nbformat_minor": 5
}
