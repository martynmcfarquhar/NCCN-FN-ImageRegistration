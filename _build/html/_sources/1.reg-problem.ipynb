{
 "cells": [
  {
   "cell_type": "markdown",
   "id": "8a6b3fd6-1753-45e7-a920-fccf68cbdcac",
   "metadata": {},
   "source": [
    "# The Image Registration Problem"
   ]
  },
  {
   "cell_type": "markdown",
   "id": "abc00b24-9703-4465-be50-74d0e3a182e0",
   "metadata": {},
   "source": [
    "<iframe src=\"misaligned.html\" width=\"800\" height=\"600\" frameborder=\"0\" scrolling=\"no\" title=\"\"></iframe>"
   ]
  }
 ],
 "metadata": {
  "kernelspec": {
   "display_name": "MATLAB Kernel",
   "language": "matlab",
   "name": "jupyter_matlab_kernel"
  },
  "language_info": {
   "file_extension": ".m",
   "mimetype": "text/x-matlab",
   "name": "matlab"
  }
 },
 "nbformat": 4,
 "nbformat_minor": 5
}
