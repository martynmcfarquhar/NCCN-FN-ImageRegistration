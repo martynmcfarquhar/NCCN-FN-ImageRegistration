{
 "cells": [
  {
   "cell_type": "markdown",
   "id": "8a6b3fd6-1753-45e7-a920-fccf68cbdcac",
   "metadata": {},
   "source": [
    "# The Image Registration Problem\n",
    "\n",
    "Image registration is a core topic of computational anatomy that is applicable across a wide range of contexts. For example, image registration is necessary when:\n",
    "\n",
    "- Aligning fMRI volumes to correct for motion.\n",
    "- Aligning longitudinal datasets together to assess change over time.\n",
    "- Aligning data from different scanners and different sites in multi-centre research.\n",
    "- Aligning data with a template or atlas to localise results and make comparisons across studies.\n",
    "\n",
    "For all these cases, we can break the problem down into registering *two* images. This is our general framework for registration, where the goal is to move one image to align with the other. The image we move is known as the *source* image and the image we keep stationary is known as the *target* or *reference* image. \n",
    "\n",
    "## Motivation for Registration\n",
    "To motivate the need for registration, consider the scans shown below."
   ]
  },
  {
   "cell_type": "markdown",
   "id": "abc00b24-9703-4465-be50-74d0e3a182e0",
   "metadata": {},
   "source": [
    "<iframe src=\"misaligned.html\" width=\"800\" height=\"600\" frameborder=\"0\" scrolling=\"no\" title=\"\"></iframe>"
   ]
  },
  {
   "cell_type": "markdown",
   "id": "760f61e9-4e24-4d83-934a-8080f7ce49a1",
   "metadata": {},
   "source": [
    "Clearly these images are not aligned because the anatomy of the brain does not overlap. In this situation, our aim is to collate information across the two images. In order to do this, there are two necessary conditions. \n",
    "\n",
    "The first is that some sort of *mapping* exists between the points in one image and the points in the other. If the images are identical in size, this is simply an identity mapping where we use the same coordinates for the two images. This will be the case if the images are generated from the same scanning sequence, or if one image has been *resampled* to the dimensions of the other image (as discussed last week). Alternatively, we can map between the images using world-space and the matrix $\\mathbf{Q}$, as also explored last week. \n",
    "\n",
    "However, mapping between two images is useless if the anatomy of the brain is not in the same position within each image. As such, the second condition is that the images are *aligned* or *registered*. To see this in context, consider reading two images into `MATLAB`"
   ]
  },
  {
   "cell_type": "code",
   "execution_count": null,
   "id": "96a74dd3-b913-4e7b-ae18-7f97acb259f2",
   "metadata": {},
   "outputs": [],
   "source": []
  }
 ],
 "metadata": {
  "kernelspec": {
   "display_name": "MATLAB Kernel",
   "language": "matlab",
   "name": "jupyter_matlab_kernel"
  },
  "language_info": {
   "file_extension": ".m",
   "mimetype": "text/x-matlab",
   "name": "matlab"
  }
 },
 "nbformat": 4,
 "nbformat_minor": 5
}