{
 "cells": [
  {
   "cell_type": "markdown",
   "id": "1a5e4fcb-4335-4572-b466-59d6841c83d6",
   "metadata": {},
   "source": [
    "# Mapping Coordinates\n"
   ]
  }
 ],
 "metadata": {
  "kernelspec": {
   "display_name": "MATLAB Kernel",
   "language": "matlab",
   "name": "jupyter_matlab_kernel"
  },
  "language_info": {
   "file_extension": ".m",
   "mimetype": "text/x-matlab",
   "name": "matlab"
  }
 },
 "nbformat": 4,
 "nbformat_minor": 5
}