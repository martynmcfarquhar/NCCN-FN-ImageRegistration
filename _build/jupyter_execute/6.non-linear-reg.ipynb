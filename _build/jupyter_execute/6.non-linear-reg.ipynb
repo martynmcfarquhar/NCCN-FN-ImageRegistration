{
 "cells": [
  {
   "cell_type": "markdown",
   "id": "d79698dc-62e1-4f1a-9baf-ff41b3ead17d",
   "metadata": {
    "editable": true,
    "slideshow": {
     "slide_type": ""
    },
    "tags": []
   },
   "source": [
    "# Non-linear Registration\n"
   ]
  },
  {
   "cell_type": "code",
   "execution_count": null,
   "id": "c8cbf4fc-e9ce-43a4-ab72-45e40c28f82f",
   "metadata": {},
   "outputs": [],
   "source": []
  }
 ],
 "metadata": {
  "kernelspec": {
   "display_name": "MATLAB Kernel",
   "language": "matlab",
   "name": "jupyter_matlab_kernel"
  },
  "language_info": {
   "file_extension": ".m",
   "mimetype": "text/x-matlab",
   "name": "matlab"
  }
 },
 "nbformat": 4,
 "nbformat_minor": 5
}