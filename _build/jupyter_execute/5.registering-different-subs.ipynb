{
 "cells": [
  {
   "cell_type": "markdown",
   "id": "d79698dc-62e1-4f1a-9baf-ff41b3ead17d",
   "metadata": {
    "editable": true,
    "slideshow": {
     "slide_type": ""
    },
    "tags": []
   },
   "source": [
    "# Registering Images from Different Subjects\n",
    "So far, in this lesson, we have discussed aligning two images from the same subject. These images may come from different imaging modalities, but fundamentally they represent the same individual with the same anatomy. Now we are going to consider the situation where we might want to register images from *different* subjects. Why would we want to do this? Well, one of the issues we face with brain imaging is that there is a large amount of anatomical variability across healthy individuals. Although all the main structures of the brain are in roughly the same place, there is a large degree of inconsistency in terms of the finer details of the size and shape of many parts of the brain. Examples of this variation are illustrated in {numref}`anat-var-fig`.\n",
    "\n",
    "```{figure} images/anat-variability.png\n",
    "---\n",
    "width: 800px\n",
    "name: anat-var-fig\n",
    "---\n",
    "Illusration of the degree of anatomical variability across 9 healthy and age-matched individuals. \n",
    "```\n",
    "\n",
    "This variability in anatomy causes a number of issues for analysing brain images. For one thing, it is difficult to extract data from the same region of the brain across all subjects when the region is a different shape and size in each image. Furthermore, our ability to accurately localise findings is hampered by the fact that the same brain region may look different in each subject. This is less of an issue with a single-subject case study, but it makes analysis of scans from a group of subjects nigh-on impossible. In addition, the statistical analysis methods that we will learn about later in the course rely on the same voxel coordinates corresponding to the same anatomical location across all subjects, which will not be the case by default. As such, the solution to all these problems is to transform each image such that all the anatomical variability is removed. Effectively, we want to warp each brain into the same space to make the anatomy identical. This is called *spatial normalisation*.\n",
    "\n",
    "## Template Spaces\n",
    "In order to warp our images into the same space, we first need to define the space we are going to use. One possibility would be to pick a single subject as a template and then register and resample all the other subjects so that they are in alignment. This would solve the issue to an extent, but we would have to pick someone with clearly defined anatomical features in order to localise our results. Furthermore, the millimetre coordinates of those results would only make sense for that one subject and would therefore have limited utility for reporting results to the rest of the neuroimaging community. As such, the typical approach is not to use one subject as the template, but instead to use a *standardised* space. This is simply a brain that has been chosen by the neuroimaging community to represent a typical individual. The advantage is that this brain has known dimensions and known coordinates of all the major regions. This means we can transform our subjects into an agreed-upon space with coordinates all neuroimagers understand.\n",
    "\n",
    "### The MNI Template Space\n",
    "The most common standard space used for neuroimaging was developed by the Montreal Neurological Institute (MNI) through the creation of a set of standardised template images. These images were designed to adhere to some of the conventions of earlier attempts to create a standardised atlas of the brain by neurosurgeon [Jean Talairach](https://en.wikipedia.org/wiki/Jean_Talairach), including the use of millimetres on a 3D Cartesian grid with the origin at the anterior commissure. The main difference is that Talairach's brain came from a real-life specimen donated by an elderly French lady, whereas the MNI templates are based on averaging the brain scans of a large cohort of healthy individuals. The MNI templates therefore represent an *average brain* and MNI space has become the standard used for spatial normalisation by the majority of neuroimaging software. Examples of the MNI template brain over the years are shown in {numref}`mni-templates-fig`.\n",
    "\n",
    "```{figure} images/mni-templates.png\n",
    "---\n",
    "width: 800px\n",
    "name: mni-templates-fig\n",
    "---\n",
    "Examples of the MNI template brains as refined over the years. \n",
    "```\n",
    "\n",
    "## Affine Approaches to Normalisation\n",
    "Hopefully it is clear that the process of normalisation is another example of image registration, albeit one where our aim is to align all our data with a single template image. Given what we have learned so far, an obvious first approach would be to try spatially normalising images using an affine transformation. The GIF below show the results of doing so with a mutual information cost function.\n",
    "\n",
    "Flicking between the normalised image and the MNI template highlights that, while the affine approach has produced an image that is grossly similar to the template, there are still many discrepancies. For instance, the ventricles are different shapes between the normalised image and the template, as is the general outline of the brain itself. From this we can see that affine approaches show modest success when registering images with different anatomy, but there is still a lot of room for improvement. As such, we are motivated to move beyond linear registration into the world of non-linear registration."
   ]
  },
  {
   "cell_type": "code",
   "execution_count": null,
   "id": "4be5f1ff-e4ad-4404-bd75-324eac3420f9",
   "metadata": {},
   "outputs": [],
   "source": []
  }
 ],
 "metadata": {
  "kernelspec": {
   "display_name": "MATLAB Kernel",
   "language": "matlab",
   "name": "jupyter_matlab_kernel"
  },
  "language_info": {
   "file_extension": ".m",
   "mimetype": "text/x-matlab",
   "name": "matlab"
  }
 },
 "nbformat": 4,
 "nbformat_minor": 5
}