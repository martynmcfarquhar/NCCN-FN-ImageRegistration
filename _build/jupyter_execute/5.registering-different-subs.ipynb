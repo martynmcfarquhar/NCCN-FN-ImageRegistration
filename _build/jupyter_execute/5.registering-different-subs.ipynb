{
 "cells": [
  {
   "cell_type": "markdown",
   "id": "d79698dc-62e1-4f1a-9baf-ff41b3ead17d",
   "metadata": {
    "editable": true,
    "slideshow": {
     "slide_type": ""
    },
    "tags": []
   },
   "source": [
    "# Registering Images from Different Subjects"
   ]
  },
  {
   "cell_type": "code",
   "execution_count": null,
   "id": "4be5f1ff-e4ad-4404-bd75-324eac3420f9",
   "metadata": {},
   "outputs": [],
   "source": []
  }
 ],
 "metadata": {
  "kernelspec": {
   "display_name": "MATLAB Kernel",
   "language": "matlab",
   "name": "jupyter_matlab_kernel"
  },
  "language_info": {
   "file_extension": ".m",
   "mimetype": "text/x-matlab",
   "name": "matlab"
  }
 },
 "nbformat": 4,
 "nbformat_minor": 5
}