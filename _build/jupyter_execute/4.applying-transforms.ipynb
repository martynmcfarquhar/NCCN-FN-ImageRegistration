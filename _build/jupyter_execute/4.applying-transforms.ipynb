{
 "cells": [
  {
   "cell_type": "markdown",
   "id": "bdc5a501-8d0c-44e8-82bb-4a5e08e60c08",
   "metadata": {},
   "source": [
    "# Applying Transformations\n",
    "So far in this lesson, we have discussed the general framework for registration, the principles behind creating a coordinate mapping between images, and how we can find the best transformation matrix $\\mathbf{T}$ to improve this mapping. The final step is to decide what to do with the \"best\" $\\mathbf{T}$ , once the optimisation algorithm has found it.\n",
    "\n",
    "Typically there are two choices. The first is to use $\\mathbf{T}$ to transform the header matrix of the source image and the second is to use $\\mathbf{T}$  to resample the source image into the space of the reference image. These options can be thought of applying the transformation in either *world-space* or *voxel-space*. When changing the header of the source image, the voxel data will not change and we will still need to use the $\\mathbf{Q}$  matrix to convert coordinates between the images. However, having used $\\mathbf{T}$  to redefine how the source image is mapped into world-space, we can now be confident that we will land in the same anatomical location when converting coordinates between the images. As an alternative, when we resample the source image we change its dimensions and orientation to match the reference image. So this time the image data does change and, importantly, we no longer need $\\mathbf{Q}$  to convert between the images. In this instance, there is a one-to-one mapping between the voxels of the images. Both these options are illustrated in {numref}`vox-world-transf-fig`.\n",
    "\n",
    "```{figure} images/vox-world-transf.png\n",
    "---\n",
    "width: 800px\n",
    "name: vox-world-transf-fig\n",
    "---\n",
    "Illustration of applying a transformation in world-space (*top*) and in voxel-space (*bottom*). To make the results of the resampling clear, the anatomical data has been interpolated into the space of the functional data.\n",
    "```\n",
    "\n",
    "## Applying the Transformation in World-space\n",
    "As we saw last week, a transformation matrix $\\mathbf{T}$  can be applied to the header of any image by replacing the header matrix $\\mathbf{M}$  with $\\mathbf{M}^{\\ast} = \\mathbf{TM}$. This makes the transformation permanent so that the voxels are then forever mapped to a different point in world-space. Again, it is important to recognise that the only thing that has changed is the rules for converting voxel coordinates into millimetre coordinates. The voxel data in the image has not been touched. This means that if you look at an image in voxel-space, you would not know anything had changed. The difference comes when using $\\mathbf{Q}$ to map between images in world-space. This is illustrated in {numref}`good-reg-fig` with two images that have been registered. Despite their differences in resolution and dimension, the coordinates can still be accurately mapped from one to the other using $\\mathbf{Q} = \\mathbf{M}_{S}^{-1}\\mathbf{M}_{T}$.\n",
    "\n",
    "```{figure} images/good_reg.gif\n",
    "---\n",
    "width: 800px\n",
    "name: good-reg-fig\n",
    "---\n",
    "Example of how coordinates can be accurately mapped across images of different dimensions and resolutions once they have been registered in world-space.\n",
    "```\n",
    "\n",
    "## Applying the Transformation in Voxel-space\n",
    "As we saw last week, a $\\mathbf{Q}$ matrix can be used to resample one image into the space of another. This is thought of as a pulling operation, where we:\n",
    "\n",
    "1. Start with a blank image the same dimensions as the reference image \n",
    "2. For each blank voxel we:\n",
    "    1. Convert the coordinates to coordinates from the source image using $\\mathbf{Q}$\n",
    "    2. If the coordinates are a whole number, we simply copy the old value into its new position\n",
    "    3. If the coordinates are fractional, we use interpolation of the old values to create a new value\n",
    "\n",
    "Not only will this render both images the same dimensions, but because we use $\\mathbf{Q}$ to match voxels based on their world-space coordinates, we end up using the world-space registration of the images when pulling one image into the space of the other. This means that, once complete, we no longer need $\\mathbf{Q}$ as there is a one-to-one mapping between the images, as shown in {numref}`good-reg--resamp-fig`.\n",
    "\n",
    "```{figure} images/good_reg_resample.gif\n",
    "---\n",
    "width: 800px\n",
    "name: good-reg--resamp-fig\n",
    "---\n",
    "Illusration of resampling one image into the space of the other, using their world-space alignment. In this example, the anatomical data have been resampled to match the functional data for the purpose of making the transformation clear. \n",
    "```"
   ]
  },
  {
   "cell_type": "markdown",
   "id": "b684afaf-9656-4fa3-8c85-f92a0e4276b1",
   "metadata": {},
   "source": [
    "## Image Registration Using `SPM`\n",
    "We have now spent a lot of time talking about the theory of linear registration. We are now going to move on to the practical side of performing registration within `SPM`. In this section, we will explore some of the registration options available and you can have a go at running some of the registration steps yourself. For all examples in this section, we will be using the following [functional](https://livemanchesterac.sharepoint.com/:u:/r/sites/UOM-FBMH-MSc-NCCN/Shared%20Documents/PCHN62141%20Functional%20Neuroanatomy/Learning%20Materials/Asynchronous/Week%205/1.%20Image%20Registration/Data/func.nii?csf=1&web=0&e=J5qLzt&download=1) and [anatomical](https://livemanchesterac.sharepoint.com/:u:/r/sites/UOM-FBMH-MSc-NCCN/Shared%20Documents/PCHN62141%20Functional%20Neuroanatomy/Learning%20Materials/Asynchronous/Week%205/1.%20Image%20Registration/Data/anat.nii?csf=1&web=0&e=V2fUZN&download=1) images.\n",
    "\n",
    "### Manual Registration\n",
    "As mentioned earlier, we can give automated registration algorithms the best chance of success by using images that are already roughly aligned. In the video below, we will see how to assess and improve the default registration between two images using `SPM`.\n",
    "\n",
    "<div style=\"max-width: 1280px\"><div style=\"position: relative; padding-bottom: 56.25%; height: 0; overflow: hidden;\"><iframe src=\"https://livemanchesterac.sharepoint.com/sites/UOM-FBMH-MSc-NCCN/_layouts/15/embed.aspx?UniqueId=d0d27cfc-b1b6-4975-b7a9-0cfff5d5208c&embed=%7B%22hvm%22%3Atrue%2C%22ust%22%3Atrue%7D&referrer=StreamWebApp&referrerScenario=EmbedDialog.Create\" width=\"1280\" height=\"720\" frameborder=\"0\" scrolling=\"no\" allowfullscreen title=\"spm-manual-registration.mov\" style=\"border:none; position: absolute; top: 0; left: 0; right: 0; bottom: 0; height: 100%; max-width: 100%;\"></iframe></div></div>\n",
    "\n",
    "### Automated Registration\n",
    "Once we are happy that we have given the automated algorithms good starting positions, we can turn to using the automated registration procedures themselves. In the video below, we will see how to use the main automated registration tools in `SPM`.\n",
    "\n",
    "<div style=\"max-width: 1280px\"><div style=\"position: relative; padding-bottom: 56.25%; height: 0; overflow: hidden;\"><iframe src=\"https://livemanchesterac.sharepoint.com/sites/UOM-FBMH-MSc-NCCN/_layouts/15/embed.aspx?UniqueId=04529bac-9c1d-48d3-9f72-fb9e3947a7f4&embed=%7B%22hvm%22%3Atrue%2C%22ust%22%3Atrue%7D&referrer=StreamWebApp&referrerScenario=EmbedDialog.Create\" width=\"1280\" height=\"720\" frameborder=\"0\" scrolling=\"no\" allowfullscreen title=\"spm-automated-reg.mov\" style=\"border:none; position: absolute; top: 0; left: 0; right: 0; bottom: 0; height: 100%; max-width: 100%;\"></iframe></div></div>\n"
   ]
  },
  {
   "cell_type": "code",
   "execution_count": null,
   "id": "6374b0b0-3745-47af-9b71-b47904c115a3",
   "metadata": {},
   "outputs": [],
   "source": []
  }
 ],
 "metadata": {
  "kernelspec": {
   "display_name": "MATLAB Kernel",
   "language": "matlab",
   "name": "jupyter_matlab_kernel"
  },
  "language_info": {
   "file_extension": ".m",
   "mimetype": "text/x-matlab",
   "name": "matlab"
  }
 },
 "nbformat": 4,
 "nbformat_minor": 5
}