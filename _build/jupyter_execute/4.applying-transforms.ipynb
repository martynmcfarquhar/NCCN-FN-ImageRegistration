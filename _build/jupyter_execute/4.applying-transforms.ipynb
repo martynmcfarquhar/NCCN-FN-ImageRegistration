{
 "cells": [
  {
   "cell_type": "markdown",
   "id": "bdc5a501-8d0c-44e8-82bb-4a5e08e60c08",
   "metadata": {},
   "source": [
    "# Applying Transformations\n",
    "\n",
    "So far in this lesson, we have discussed the general framework for registration, the principles behind creating a coordinate mapping between images, and how we can find the best transformation matrix $\\mathbf{T}$ to improve this mapping. The final step is to decide what to do with the \"best\" $\\mathbf{T}$ , once the optimisation algorithm has found it.\n",
    "\n",
    "Typically there are two choices. The first is to use $\\mathbf{T}$ to transform the header matrix of the source image and the second is to use $\\mathbf{T}$  to resample the source image into the space of the reference image. These options can be thought of applying the transformation in either *world-space* or *voxel-space*. When changing the header of the source image, the voxel data will not change and we will still need to use the $\\mathbf{Q}$  matrix to convert coordinates between the images. However, having used $\\mathbf{T}$  to redefine how the source image is mapped into world-space, we can now be confident that we will land in the same anatomical location when converting coordinates between the images. As an alternative, when we resample the source image we change its dimensions and orientation to match the reference image. So this time the image data does change and, importantly, we no longer need $\\mathbf{Q}$  to convert between the images. In this instance, there is a one-to-one mapping between the voxels of the images. Both these options are illustrated in {numref}`vox-world-transf-fig`.\n",
    "\n",
    "```{figure} images/vox-world-transf.png\n",
    "---\n",
    "width: 800px\n",
    "name: vox-world-transf-fig\n",
    "---\n",
    "Illustration of applying a transformation in world-space (*top*) and in voxel-space (*bottom*). To make the results of the resampling clear, the anatomical data has been interpolated into the space of the functional data.\n",
    "```"
   ]
  },
  {
   "cell_type": "markdown",
   "id": "b684afaf-9656-4fa3-8c85-f92a0e4276b1",
   "metadata": {},
   "source": [
    "## Image Registration Using `SPM`\n",
    "\n",
    "### Manual Registration\n",
    "\n",
    "### Automated Registration"
   ]
  },
  {
   "cell_type": "code",
   "execution_count": null,
   "id": "61bea03d-7d63-4062-be30-c3c20e31c4d2",
   "metadata": {},
   "outputs": [],
   "source": []
  }
 ],
 "metadata": {
  "kernelspec": {
   "display_name": "MATLAB Kernel",
   "language": "matlab",
   "name": "jupyter_matlab_kernel"
  },
  "language_info": {
   "file_extension": ".m",
   "mimetype": "text/x-matlab",
   "name": "matlab"
  }
 },
 "nbformat": 4,
 "nbformat_minor": 5
}