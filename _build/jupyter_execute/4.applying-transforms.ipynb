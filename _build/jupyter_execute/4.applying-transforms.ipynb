{
 "cells": [
  {
   "cell_type": "markdown",
   "id": "bdc5a501-8d0c-44e8-82bb-4a5e08e60c08",
   "metadata": {},
   "source": [
    "# Applying Transformations\n",
    "So far in this lesson, we have discussed the general framework for registration, the principles behind creating a coordinate mapping between images, and how we can find the best transformation matrix $\\mathbf{T}$ to improve this mapping. The final step is to decide what to do with the \"best\" $\\mathbf{T}$ , once the optimisation algorithm has found it.\n",
    "\n",
    "Typically there are two choices. The first is to use $\\mathbf{T}$ to transform the header matrix of the source image and the second is to use $\\mathbf{T}$  to resample the source image into the space of the reference image. These options can be thought of applying the transformation in either *world-space* or *voxel-space*. When changing the header of the source image, the voxel data will not change and we will still need to use the $\\mathbf{Q}$  matrix to convert coordinates between the images. However, having used $\\mathbf{T}$  to redefine how the source image is mapped into world-space, we can now be confident that we will land in the same anatomical location when converting coordinates between the images. As an alternative, when we resample the source image we change its dimensions and orientation to match the reference image. So this time the image data does change and, importantly, we no longer need $\\mathbf{Q}$  to convert between the images. In this instance, there is a one-to-one mapping between the voxels of the images. Both these options are illustrated in {numref}`vox-world-transf-fig`.\n",
    "\n",
    "```{figure} images/vox-world-transf.png\n",
    "---\n",
    "width: 800px\n",
    "name: vox-world-transf-fig\n",
    "---\n",
    "Illustration of applying a transformation in world-space (*top*) and in voxel-space (*bottom*). To make the results of the resampling clear, the anatomical data has been interpolated into the space of the functional data.\n",
    "```\n",
    "\n",
    "## Applying the Transformation in World-space\n",
    "As we saw last week, a transformation matrix $\\mathbf{T}$  can be applied to the header of any image by replacing the header matrix $\\mathbf{M}$  with $\\mathbf{M}^{\\ast} = \\mathbf{TM}$. This makes the transformation permanent so that the voxels are then forever mapped to a different point in world-space. Again, it is important to recognise that the only thing that has changed is the rules for converting voxel coordinates into millimetre coordinates. The voxel data in the image has not been touched. This means that if you look at an image in voxel-space, you would not know anything had changed. The difference comes when using $\\mathbf{Q}$ to map between images in world-space. This is illustrated in {numref}`good-reg-fig` with two images that have been registered. Despite their differences in resolution and dimension, the coordinates can still be accurately mapped from one to the other using $\\mathbf{Q} = \\mathbf{M}_{S}^{-1}\\mathbf{M}_{T}$.\n",
    "\n",
    "```{figure} images/good-ref.gif\n",
    "---\n",
    "width: 800px\n",
    "name: good-reg-fig\n",
    "---\n",
    "Example of how coordinates can be accurately mapped across images of different dimensions and resolutions once they have been registered in world-space.\n",
    "```"
   ]
  },
  {
   "cell_type": "markdown",
   "id": "b684afaf-9656-4fa3-8c85-f92a0e4276b1",
   "metadata": {},
   "source": [
    "## Image Registration Using `SPM`\n",
    "\n",
    "### Manual Registration\n",
    "\n",
    "### Automated Registration"
   ]
  },
  {
   "cell_type": "code",
   "execution_count": null,
   "id": "61bea03d-7d63-4062-be30-c3c20e31c4d2",
   "metadata": {},
   "outputs": [],
   "source": []
  }
 ],
 "metadata": {
  "kernelspec": {
   "display_name": "MATLAB Kernel",
   "language": "matlab",
   "name": "jupyter_matlab_kernel"
  },
  "language_info": {
   "file_extension": ".m",
   "mimetype": "text/x-matlab",
   "name": "matlab"
  }
 },
 "nbformat": 4,
 "nbformat_minor": 5
}