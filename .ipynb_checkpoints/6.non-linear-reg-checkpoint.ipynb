{
 "cells": [
  {
   "cell_type": "markdown",
   "id": "d79698dc-62e1-4f1a-9baf-ff41b3ead17d",
   "metadata": {
    "editable": true,
    "slideshow": {
     "slide_type": ""
    },
    "tags": []
   },
   "source": [
    "# Non-linear Registration\n",
    "As we saw in the last section, affine transformations alone are not enough to accurately register individual subjects to a common template space. In order to move beyond simple affine approaches, we have to consider methods where we can move each voxel *independently*. These are known as *non-linear* registration techniques. Generally, these methods are more complex than affine methods and so we will keep the detail presented here limited. However, much of the image registration theory remains relevant. We still have a *reference* image (the MNI templates) that we want to align our *source* image to. In order to do so, we still have to estimate some form of *mapping* between the source and the reference images, and this will require optimisation using some form of *objective function*. We then need to *resample* the source image to move it into standard space. The main difference is that our mapping is no longer given by a 12-parameter affine transformation. Instead, our mapping is based on a *deformation field*.​​​\n",
    "\n",
    "## Deformation Fields\n",
    "At its most basic, a deformation field is an image where each voxel value indicates how to move that specific voxel when warping to standard space. There are therefore three of these images, one for the $x$-axis, $y$-axis and $z$-axis. In `SPM`, the deformation field images contain the new millimetre coordinates for each voxel after warping. So the $X$ deformation field contains all the new $x$-coordinates, the $Y$ deformation field contains all the new $y$-coordinates and the $Z$ deformation field contains all the new $z$-coordinates. So rather than using the header matrices to calculate the millimetre coordinates, we can do it directly by looking at the deformation fields. We can then convert these into voxel coordinates in the source image to give us the values we need to copy into our new normalised image. Of course, given how flexible the non-linear approach is, this will almost always need some form of interpolation. \n",
    "\n",
    "An examples of a deformation field for the $x$-axis is shown below. As you navigate around the image, compare the $x$-coordinate in red to the voxel value in white. The $x$-coordinate gives the original world-space location of that voxel and the voxel value in white gives the *new* world-space coordinate where the voxel must be moved in order to warp the image to standard space. For instance, if the coordinates of the voxel are given as $[-18, 12, 0]$ and the voxel value is $-20.01$, this means that the voxel located at $[-18, 12, 0]$ must be shifted to a world-space $x$-coordinate of $-20.01$. The deformation field for the $y$-axis and $z$-axis would then be used in the same fashion to complete the new world-space coordinates."
   ]
  },
  {
   "cell_type": "markdown",
   "id": "d3b36b7d-9db0-40bf-9615-18b4fb5fb39b",
   "metadata": {},
   "source": [
    "<iframe src=\"deform-x.html\" width=\"800\" height=\"600\" frameborder=\"0\" scrolling=\"no\" title=\"\"></iframe>"
   ]
  },
  {
   "cell_type": "markdown",
   "id": "319bf10b-1b3d-4b08-9701-ab5867f8f88b",
   "metadata": {},
   "source": [
    "```{Important}\n",
    "Because the deformation field defines a warping in world-space, it can be applied to *any* image that is registered with the source image. This will become important when we get get to fMRI pre-processing, as it is typical to use an aligned anatomical scan to estimate the warping, before appplying the resultant deformation field to the functional images. As such, a deformation field is *reuseable*, so long as the images are aligned in world-space.\n",
    "```"
   ]
  },
  {
   "cell_type": "code",
   "execution_count": null,
   "id": "5e60efbd-aefe-44d0-8f39-02d57be756f2",
   "metadata": {},
   "outputs": [],
   "source": []
  }
 ],
 "metadata": {
  "kernelspec": {
   "display_name": "MATLAB Kernel",
   "language": "matlab",
   "name": "jupyter_matlab_kernel"
  },
  "language_info": {
   "file_extension": ".m",
   "mimetype": "text/x-matlab",
   "name": "matlab"
  }
 },
 "nbformat": 4,
 "nbformat_minor": 5
}
