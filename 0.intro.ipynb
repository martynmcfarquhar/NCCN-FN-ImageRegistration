{
 "cells": [
  {
   "cell_type": "markdown",
   "id": "a088b088-65b3-4ede-a398-1bb5357f45b8",
   "metadata": {},
   "source": [
    "# Introduction\n",
    "...\n",
    "\n",
    "## Contents\n",
    "```{tableofcontents}\n",
    "```\n",
    "\n",
    "## About the Author\n",
    "\n",
    "```{figure} images/martyn.jpeg\n",
    "---\n",
    "scale: 15%\n",
    "align: right\n",
    "---\n",
    "```\n",
    "\n",
    "**Dr Martyn McFarquhar | PhD FHEA**\n",
    "\n",
    "Lecturer in Neuroimaging\n",
    "\n",
    "[4.31 Booth Street East Building](https://www.manchester.ac.uk/about/maps/interactive-map/?id=23) | Division of Psychology, Communication and Human Neuroscience | School of Health Sciences | The University of Manchester M13 9PL\n",
    "\n",
    "t: +44 (0)161 275 2688 | e: [martyn.mcfarquhar@manchester.ac.uk](mailto:martyn.mcfarquhar@manchester.ac.uk)"
   ]
  }
 ],
 "metadata": {
  "kernelspec": {
   "display_name": "MATLAB Kernel",
   "language": "matlab",
   "name": "jupyter_matlab_kernel"
  },
  "language_info": {
   "file_extension": ".m",
   "mimetype": "text/x-matlab",
   "name": "matlab"
  }
 },
 "nbformat": 4,
 "nbformat_minor": 5
}
