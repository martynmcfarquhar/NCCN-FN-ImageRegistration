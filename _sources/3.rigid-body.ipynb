{
 "cells": [
  {
   "cell_type": "markdown",
   "id": "d79698dc-62e1-4f1a-9baf-ff41b3ead17d",
   "metadata": {
    "editable": true,
    "slideshow": {
     "slide_type": ""
    },
    "tags": []
   },
   "source": [
    "# Rigid-body Transformations\n",
    "\n",
    "In the previous section, we introduced the idea of two different coordinates systems we called *voxel-space* and *world-space*. In order to use both systems, we need to be able to convert between them. As such, we need to be able to take voxel coordinates and convert them into millimetres, as well as take millimetre coordinates and convert them into voxels.\n",
    "\n",
    "Very generally, the ability to transform coordinates from one system into another can be expressed as\n",
    "\n",
    "$$\n",
    "\\begin{align}\n",
    "    b_x &= m_{11}a_x + m_{12}a_y + m_{13}a_z + m_{14} \\\\\n",
    "    b_y &= m_{21}a_x + m_{22}a_y + m_{23}a_z + m_{24} \\\\\n",
    "    b_z &= m_{31}a_x + m_{32}a_y + m_{33}a_z + m_{34} \n",
    "\\end{align}\n",
    "$$\n",
    "\n",
    "where $a_x$, $a_y$, $a_z$ represent the original coordinates and $b_x$, $b_y$, $b_z$ represent the transformed coordinates. You might recognise each new coordinate as a *linear combination* of the old coordinates and some values called $m$. You might also recognise that this is therefore a system of three linear equations, which can be represented using matrices. As such, we can compactly represent this transformation in the form $\\mathbf{b} = \\mathbf{Ma}$, which we can expand to\n",
    "\n",
    "$$\n",
    "\\begin{bmatrix}\n",
    "    b_x \\\\\n",
    "    b_y \\\\\n",
    "    b_z \\\\\n",
    "    1\n",
    "\\end{bmatrix}\n",
    "=\n",
    "\\begin{bmatrix}\n",
    "    m_{11} & m_{12} & m_{13} & m_{14} \\\\\n",
    "    m_{21} & m_{22} & m_{23} & m_{24} \\\\\n",
    "    m_{31} & m_{32} & m_{33} & m_{34} \\\\\n",
    "    0 & 0 & 0 & 1\n",
    "\\end{bmatrix}\n",
    "\\begin{bmatrix}\n",
    "    a_x \\\\\n",
    "    a_y \\\\\n",
    "    a_z \\\\\n",
    "    1\n",
    "\\end{bmatrix}.\n",
    "$$\n",
    "\n",
    "The matrix $\\mathbf{M}$ therefore contains the 12 parameters of the transformation (noticing that we have to add an extra row to make the matrix multiplication work). Multiplying a vector containing our original coordinates by $\\mathbf{M}$ will give us the coordinates transformed into the alternative space. We can also use $\\mathbf{M}^{-1}$ to convert from the transformed coordinates back into the original coordinates using $\\mathbf{a} = \\mathbf{M}^{-1}\\mathbf{b}$. "
   ]
  },
  {
   "cell_type": "markdown",
   "id": "f12309f3-46ab-46d7-91dd-764b1985de65",
   "metadata": {},
   "source": [
    "## Affine Transformations\n",
    "The parameters in the matrix $\\mathbf{M}$ encode what is known as an *affine* transformation. The word [affine](https://en.wikipedia.org/wiki/Affine_transformation) means that parallel lines remain parallel after transformation. As such, operations such as *bending* are not allowed. Transformation can therefore only be constructed by combining:\n",
    "\n",
    "- Translations\n",
    "- Rotations\n",
    "- Zooming/Scaling\n",
    "- Shearing\n",
    "\n",
    "Examples of each of these operations are shown in {numref}`affine-fig`.\n",
    "\n",
    "```{figure} images/affine-dark.png\n",
    "---\n",
    "width: 550px\n",
    "name: affine-fig\n",
    "---\n",
    "Illustration of the operations that are allowed when forming an affine transformation.\n",
    "```\n",
    "\n",
    "To get a feel for affine transformations, you can play around with the example below. Move the sliders to change the transformation matrix, which is then used to change the coordinates of every pixel in the image."
   ]
  },
  {
   "cell_type": "markdown",
   "id": "b5f790af-0419-4bd0-b27c-044c367d0cf4",
   "metadata": {},
   "source": [
    "<iframe align=\"\" frameborder=\"0\" height=\"800\" scrolling=\"no\" src=\"https://www.geogebra.org/material/iframe/id/jyskrsgy/width/800/height/800/border/888888/sfsb/true/smb/false/stb/false/stbh/false/ai/false/asb/false/sri/true/rc/false/ld/false/sdz/false/ctl/false\" title=\"AffineTransform2D\" width=\"800\"></iframe>"
   ]
  },
  {
   "cell_type": "markdown",
   "id": "d14ec86d-237b-45df-9297-d4ab05e2c6e6",
   "metadata": {},
   "source": [
    "Building an affine transformation within the matrix $\\mathbf{M}$ can be achieved by multiplying separate matrices that encode translations, rotations, zooms and shearing. As such, the final matrix has the form\n",
    "\n",
    "$$\n",
    "\\mathbf{M} = \\mathbf{M}_{T} \\times \\mathbf{M}_{R} \\times \\mathbf{M}_{Z} \\times \\mathbf{M}_{S}.\n",
    "$$\n",
    "\n",
    "Each one of these individual matrices has a specific form, which can read about in the drop-down below."
   ]
  },
  {
   "cell_type": "markdown",
   "id": "44e57c6a-5972-4cd4-96da-f384ae89b4f2",
   "metadata": {},
   "source": [
    ":::{admonition} Advanced: The Structure of the **M** Matrix\n",
    ":class: dropdown\n",
    "In terms of understanding how the $\\mathbf{M}$ matrix is formed, we can explore the structure of the individual matrices $\\mathbf{M}_{T}$, $\\mathbf{M}_{R}$, $\\mathbf{M}_{Z}$ and $\\mathbf{M}_{S}$.\n",
    "\n",
    "To begin with, translating an image by $q_{x}$ units along the $x$-axis, $q_{y}$ units along the $y$-axis and $q_{z}$ units along the $z$-axis would result in\n",
    "\n",
    "$$\n",
    "\\mathbf{M}_{T} = \n",
    "\\begin{bmatrix}\n",
    "1 & 0 & 0 & q_{x} \\\\\n",
    "0 & 1 & 0 & q_{y} \\\\\n",
    "0 & 0 & 1 & q_{z} \\\\\n",
    "0 & 0 & 0 & 1\n",
    "\\end{bmatrix}.\n",
    "$$\n",
    "\n",
    "Similarly, a rotation of $q$ radians around either the $x$-axis (*pitch*), the $y$-axis (*roll*) or the $z$-axis (*yaw*) would result in\n",
    "\n",
    "$$\n",
    "\\mathbf{M}_{R_{x}} = \n",
    "\\begin{bmatrix}\n",
    "1 & 0        & 0       & 0 \\\\\n",
    "0 & \\cos(q)  & \\sin(q) & 0 \\\\\n",
    "0 & -\\sin(q) & \\cos(q) & 0 \\\\\n",
    "0 & 0        & 0       & 1\n",
    "\\end{bmatrix},\\quad \n",
    "\\mathbf{M}_{R_{y}} = \n",
    "\\begin{bmatrix}\n",
    "\\cos(q)  & 0 & \\sin(q) & 0 \\\\\n",
    "0        & 1 & 0       & 0 \\\\\n",
    "-\\sin(q) & 0 & \\cos(q) & 0 \\\\\n",
    "0        & 0 & 0       & 1\n",
    "\\end{bmatrix},\\quad \n",
    "\\mathbf{M}_{R_{z}} = \n",
    "\\begin{bmatrix}\n",
    "\\cos(q)  & \\sin(q) & 0 & 0 \\\\\n",
    "-\\sin(q) & \\cos(q) & 0 & 0 \\\\\n",
    "0        & 0       & 1 & 0 \\\\\n",
    "0        & 0       & 0 & 1\n",
    "\\end{bmatrix},\n",
    "$$\n",
    "\n",
    "with\n",
    "\n",
    "$$\n",
    "\\mathbf{M}_{R} = \\mathbf{M}_{R_{x}} \\times \\mathbf{M}_{R_{y}} \\times \\mathbf{M}_{R_{z}}.\n",
    "$$\n",
    "\n",
    "You do not need to worry about all the trigonometry here. The main point is about the *structure*, in that rotations are encoded in both the diagonal and off-diagonal rows corresponding to the axes we are *not* rotating around.\n",
    "\n",
    "Zooms by a factor of $q_{x}$, $q_y$ and $q_z$ are encoded in the diagonal elements, where a negative zoom will *flip* the axis. This operation is also referred to as *scaling* and is encoded using\n",
    "\n",
    "$$\n",
    "\\mathbf{M}_{Z} = \n",
    "\\begin{bmatrix}\n",
    "q_{x} & 0     & 0     & 0 \\\\\n",
    "0     & q_{y} & 0     & 0 \\\\\n",
    "0     & 0     & q_{z} & 0 \\\\\n",
    "0     & 0     & 0     & 1\n",
    "\\end{bmatrix}.\n",
    "$$\n",
    "\n",
    "Finally, shears are encoded using parameters in the top three off-diagonal elements\n",
    "\n",
    "$$\n",
    "\\mathbf{M}_{S} = \n",
    "\\begin{bmatrix}\n",
    "1 & q_{1} & q_{2} & 0 \\\\\n",
    "0 & 1     & q_{3} & 0 \\\\\n",
    "0 & 0     & 1     & 0 \\\\\n",
    "0 & 0     & 0     & 1\n",
    "\\end{bmatrix}.\n",
    "$$\n",
    ":::"
   ]
  },
  {
   "cell_type": "markdown",
   "id": "38ab79ed-4912-43a9-8722-a3147df20baf",
   "metadata": {},
   "source": [
    "Note that we are often interested in transformations that move the brain, without changing its general size or shape. These forms of transformation are known as *rigid-body* and correspond to a subset of affine transformations that *do not* include shearing. Furthermore, zooms are only allowed to use the same value of $q$ for each axis, such that the brain can be scaled up and down, but not stretched or squashed."
   ]
  },
  {
   "cell_type": "markdown",
   "id": "c3923c4e-694e-4839-a085-ca4b8035242a",
   "metadata": {},
   "source": [
    "## Converting Between Voxel-space and World-space\n",
    "\n",
    "Now that we have seen how affine transformations work, we can get back to the idea of converting between voxel-space and world-space. The key thing to understand is that this conversion is just an affine transformation, consisting of translating, rotating and scaling the axes so they represent millimetres instead of voxels. This process is illustrated in {numref}`v2w-affine-fig`.\n",
    "\n",
    "```{figure} images/voxel-to-world-affine.png\n",
    "---\n",
    "width: 800px\n",
    "name: v2w-affine-fig\n",
    "---\n",
    "Illustration of the affine transformation used to covert between voxel-space and world-space.\n",
    "```\n",
    "\n",
    "Given this, all we need to convert voxels into millimetres is a suitable $\\mathbf{M}$ matrix. We can then multiply voxel coordinates by $\\mathbf{M}$ and get the corresponding millimetre coordinates, as well as multiply millimetre coordinates by $\\mathbf{M}^{-1}$ and get the corresponding voxel coordinates.\n",
    "\n",
    "So where do we get $\\mathbf{M}$ from? The answer is that most medical imaging file formats store all the necessary information from the scanner to create $\\mathbf{M}$. This information is stored in the *metadata* of the file, which is simply all the information carried within the file in addition to the voxel values. On this course, we will be mostly using the `NIfTI` format for brain images, which contains a voxel-to-world mapping matrix within its *header* information. Practically, this means that any `NIfTI`-formatted image carries with it the $\\mathbf{M}$ matrix needed to convert voxel coordinates into millimetre coordinates.\n",
    "\n",
    "```{tip}\n",
    "Remember that that data in voxel-space can be in any orientation because it depends upon how the data have been saved in the file. In all our examples we will assume, for simplicity, that the voxel-space data is correctly oriented. However, in cases where it is not, the affine matrix in the header will have some of the rows *swapped*. For example\n",
    "\n",
    "$$\n",
    "\\mathbf{M} = \n",
    "\\begin{bmatrix}\n",
    " 0 & 3 & 0 &  -20 \\\\\n",
    "-3 & 0 & 0 &  110 \\\\\n",
    " 0 & 0 & 3 & -190 \\\\\n",
    " 0 & 0 & 0 & 1\n",
    "\\end{bmatrix}.\n",
    "$$\n",
    "\n",
    "This means that the voxel coordinates will be *rearranged* as part of the conversion to world-space. This means that the world-space coordinates will always be in the correct order, even if the voxel-space coordinates are not.\n",
    "```\n",
    "\n",
    "As an example, consider the `MATLAB` code below. First, we can extract $\\mathbf{M}$ from the header   "
   ]
  },
  {
   "cell_type": "code",
   "execution_count": 8,
   "id": "4379a0be-007a-4df2-a6f6-a44f77ef5262",
   "metadata": {},
   "outputs": [
    {
     "data": {
      "text/html": [
       "<html><body><pre>M = 4x4 double\n",
       "    0.0122    0.0027    1.1999 -107.6227\n",
       "   -0.7913    0.6113    0.0096   18.4938\n",
       "    0.6113    0.7914   -0.0116 -191.0988\n",
       "         0         0         0    1.0000\n",
       "</pre></body></html>"
      ],
      "text/plain": [
       "M = 4x4 double\n",
       "    0.0122    0.0027    1.1999 -107.6227\n",
       "   -0.7913    0.6113    0.0096   18.4938\n",
       "    0.6113    0.7914   -0.0116 -191.0988\n",
       "         0         0         0    1.0000\n"
      ]
     },
     "execution_count": 8,
     "metadata": {},
     "output_type": "execute_result"
    }
   ],
   "source": [
    "hdr = spm_data_hdr_read('example_image.nii');\n",
    "M   = hdr.mat"
   ]
  },
  {
   "cell_type": "markdown",
   "id": "14f2fb77-0468-43eb-94d2-d6dffef7e4f0",
   "metadata": {},
   "source": [
    "Then we use $\\mathbf{M}$ to convert the voxel coordinates $[20, 25, 30]$ to millimetre coordinates"
   ]
  },
  {
   "cell_type": "code",
   "execution_count": 10,
   "id": "3fff4949-2435-4a25-856e-305d1349a995",
   "metadata": {},
   "outputs": [
    {
     "data": {
      "text/html": [
       "<html><body><pre>ans = 4x1 double\n",
       "  -71.3129\n",
       "   18.2397\n",
       " -159.4359\n",
       "    1.0000\n",
       "</pre></body></html>"
      ],
      "text/plain": [
       "ans = 4x1 double\n",
       "  -71.3129\n",
       "   18.2397\n",
       " -159.4359\n",
       "    1.0000\n"
      ]
     },
     "execution_count": 10,
     "metadata": {},
     "output_type": "execute_result"
    }
   ],
   "source": [
    "coords.mm = M * [20 25 30 1]';\n",
    "coords.mm"
   ]
  },
  {
   "cell_type": "markdown",
   "id": "0d938be1-31bf-48a3-818b-a3bbf7bec7ce",
   "metadata": {},
   "source": [
    "Finally, can use the inverse of $\\mathbf{M}$ to get from millimetres back to voxels"
   ]
  },
  {
   "cell_type": "code",
   "execution_count": 12,
   "id": "95b59496-8ee3-4d87-9c8b-d149eb4a9907",
   "metadata": {},
   "outputs": [
    {
     "data": {
      "text/html": [
       "<html><body><pre>ans = 4x1 double\n",
       "   20.0000\n",
       "   25.0000\n",
       "   30.0000\n",
       "    1.0000\n",
       "</pre></body></html>"
      ],
      "text/plain": [
       "ans = 4x1 double\n",
       "   20.0000\n",
       "   25.0000\n",
       "   30.0000\n",
       "    1.0000\n"
      ]
     },
     "execution_count": 12,
     "metadata": {},
     "output_type": "execute_result"
    }
   ],
   "source": [
    "coords.vox = inv(M) * coords.mm;\n",
    "coords.vox"
   ]
  },
  {
   "cell_type": "markdown",
   "id": "1a6e1f0d-186c-47a0-8f69-9c8e8c9b1816",
   "metadata": {},
   "source": [
    ":::{admonition} Advanced: Breaking Down an **M** Matrix\n",
    ":class: dropdown\n",
    "\n",
    "`SPM` contains a function called `spm_imatrix` that takes an $\\mathbf{M}$ matrix as input and then returns the translation, rotation, scaling and shearing parameters for each axis. If you want to get a better understanding of how $\\mathbf{M}$ is formed, you can try running `p = spm_imatrix(hdr.mat)` to extract the parameters, and then building the $\\mathbf{M}$ matrix from the equations given earlier. For instance, you can form the matrix $\\mathbf{M}_{T}$ using \n",
    "```\n",
    "MT = [1 0 0 p(1); ...\n",
    "      0 1 0 p(2); ...\n",
    "      0 0 1 p(3); ...\n",
    "      0 0 0 1]; \n",
    "```\n",
    "and the matrix $\\mathbf{M}_{R_{x}}$ using\n",
    "```\n",
    "MRx = [1  0         0         0; ...\n",
    "       0  cos(p(4)) sin(p(4)) 0; ...\n",
    "       0 -sin(p(4)) cos(p(4)) 0; ...\n",
    "       0  0         0         1];\n",
    "```\n",
    "Continue like this for the remaining matrices and then try calculating\n",
    "```\n",
    "MR = MRx * MRy * MRz;\n",
    "M  = MT * MR * MZ * MS\n",
    "```\n",
    "and see if the result is the same as `hdr.mat`.\n",
    ":::"
   ]
  }
 ],
 "metadata": {
  "kernelspec": {
   "display_name": "MATLAB Kernel",
   "language": "matlab",
   "name": "jupyter_matlab_kernel"
  },
  "language_info": {
   "file_extension": ".m",
   "mimetype": "text/x-matlab",
   "name": "matlab"
  }
 },
 "nbformat": 4,
 "nbformat_minor": 5
}
