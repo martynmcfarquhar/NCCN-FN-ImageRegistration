{
 "cells": [
  {
   "cell_type": "markdown",
   "id": "8a6b3fd6-1753-45e7-a920-fccf68cbdcac",
   "metadata": {},
   "source": [
    "# The Image Registration Problem\n",
    "\n",
    "Image registration is a core issue that is applicable across a wide range of contexts. For example, image registration is necessary when:\n",
    "\n",
    "- Aligning fMRI volumes to correct for motion.\n",
    "- Aligning longitudinal datasets together to assess change over time.\n",
    "- Aligning data from different scanners and different sites in multi-centre research.\n",
    "- Aligning data with a template or atlas to localise results and make comparisons across studies.\n",
    "\n",
    "For all these cases, we can break the problem down into registering *two* images. This is our general framework for registration, where the goal is to move one image to align with the other. The image we move is known as the *source* image and the image we keep stationary is known as the *target* or *reference* image. \n",
    "\n",
    "## Motivation for Registration\n",
    "To motivate the need for registration, consider the scans shown below. Clearly these images are not aligned because the anatomy of the brain does not overlap. As such, our broad aim would be to move one of the images until the anatomy is overlapping, at which point we would say that the images are *aligned* or are *registered*."
   ]
  },
  {
   "cell_type": "markdown",
   "id": "abc00b24-9703-4465-be50-74d0e3a182e0",
   "metadata": {},
   "source": [
    "<iframe src=\"misaligned.html\" width=\"800\" height=\"600\" frameborder=\"0\" scrolling=\"no\" title=\"\"></iframe>"
   ]
  },
  {
   "cell_type": "markdown",
   "id": "5a079bf0-f0a8-4ac2-acc6-bb7dc48b6b51",
   "metadata": {},
   "source": [
    "To understand why this is necessary consider that our aim is often to collate meaningful information across multiple images. In order to do this, we need some sort of *mapping* between the points in one image and the points in the other. If the images are identical in size, this is simply an identity mapping where we use the same coordinates for the two images. This will be the case if the images are generated from the same scanning sequence, or if one image has been *interpolated* to the dimensions of the other image. Alternatively, we can map between the images using world-space and the matrix $\\mathbf{Q}$, as we explored last week. Either way, we take the coordinates in one image and transform them into coordinates in the other image in order to extract the matching voxel values.\n",
    "\n",
    "```{important}\n",
    "The most important point to realise is that just because a mapping exists, it does not mean that it is useful. For instance, mapping between two images is largely useless if the anatomy of the brain is not in the same position within each image. This is because the coordinates that are matched across the images are associated with *different* anatomical locations. Indeed, locations *inside* the brain in one image may be mapped to locations *outside* the brain in the other image. As such, there is an additional need, beyond simply mapping coordinates, for images to be *aligned*.\n",
    "```"
   ]
  }
 ],
 "metadata": {
  "kernelspec": {
   "display_name": "MATLAB Kernel",
   "language": "matlab",
   "name": "jupyter_matlab_kernel"
  },
  "language_info": {
   "file_extension": ".m",
   "mimetype": "text/x-matlab",
   "name": "matlab"
  }
 },
 "nbformat": 4,
 "nbformat_minor": 5
}
