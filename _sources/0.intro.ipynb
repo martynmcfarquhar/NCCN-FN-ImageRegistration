{
 "cells": [
  {
   "cell_type": "markdown",
   "id": "a088b088-65b3-4ede-a398-1bb5357f45b8",
   "metadata": {},
   "source": [
    "# Introduction\n",
    "Registration is a fundamental image processing step. When running a neuroimaging experiment, researchers will often collect different scans from the same subject. These may include anatomical MR images, BOLD images during cognitive tasks, ASL scans to quantify blood flow or DTI scans for white matter tractography. Each of these images will differ in terms of its dimensions, resolution, contrast and orientation, but fundamentally the anatomy is the same. In order to use these different scans, the same anatomical locations must be identified in each image. As such, methods are required that allow a computer to know which parts of the images correspond to the same anatomical locations. This process is known as image registration. In this lesson, we will formalise this notion of aligning anatomy across different images. We will discuss automated computer methods for registration, as well as the limitations and issues with using different approaches to solve this problem. We will also see how registration is implemented in different ways within `SPM`.\n",
    "\n",
    "## Contents\n",
    "```{tableofcontents}\n",
    "```\n",
    "\n",
    "## About the Author\n",
    "\n",
    "```{figure} images/martyn.jpeg\n",
    "---\n",
    "scale: 15%\n",
    "align: right\n",
    "---\n",
    "```\n",
    "\n",
    "**Dr Martyn McFarquhar | PhD FHEA**\n",
    "\n",
    "Lecturer in Neuroimaging\n",
    "\n",
    "[4.31 Booth Street East Building](https://www.manchester.ac.uk/about/maps/interactive-map/?id=23) | Division of Psychology, Communication and Human Neuroscience | School of Health Sciences | The University of Manchester M13 9PL\n",
    "\n",
    "t: +44 (0)161 275 2688 | e: [martyn.mcfarquhar@manchester.ac.uk](mailto:martyn.mcfarquhar@manchester.ac.uk)"
   ]
  }
 ],
 "metadata": {
  "kernelspec": {
   "display_name": "MATLAB Kernel",
   "language": "matlab",
   "name": "jupyter_matlab_kernel"
  },
  "language_info": {
   "file_extension": ".m",
   "mimetype": "text/x-matlab",
   "name": "matlab"
  }
 },
 "nbformat": 4,
 "nbformat_minor": 5
}
